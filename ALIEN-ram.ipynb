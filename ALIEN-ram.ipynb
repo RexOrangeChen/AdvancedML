{
  "nbformat": 4,
  "nbformat_minor": 0,
  "metadata": {
    "colab": {
      "name": "Acrobot.ipynb",
      "provenance": [],
      "collapsed_sections": [],
      "machine_shape": "hm"
    },
    "kernelspec": {
      "name": "python3",
      "display_name": "Python 3"
    }
  },
  "cells": [
    {
      "cell_type": "markdown",
      "metadata": {
        "id": "NZASuGa_Xbzd",
        "colab_type": "text"
      },
      "source": [
        "## **Use TF-Agent to Train a RL on Acrobot**"
      ]
    },
    {
      "cell_type": "markdown",
      "metadata": {
        "id": "CZX49wH_XmVr",
        "colab_type": "text"
      },
      "source": [
        "# **Set Up**"
      ]
    },
    {
      "cell_type": "code",
      "metadata": {
        "id": "fDO_pjLTXkPy",
        "colab_type": "code",
        "outputId": "e7980563-afac-451f-d770-2164dd3f487b",
        "colab": {
          "base_uri": "https://localhost:8080/",
          "height": 1000
        }
      },
      "source": [
        "!apt-get install xvfb\n",
        "!pip install 'gym==0.10.11'\n",
        "!pip install 'imageio==2.4.0'\n",
        "!pip install PILLOW\n",
        "!pip install 'pyglet==1.3.2'\n",
        "!pip install pyvirtualdisplay\n",
        "!pip install tf-agents-nightly\n",
        "try:\n",
        "  %%tensorflow_version 2.x\n",
        "except:\n",
        "  pass"
      ],
      "execution_count": 1,
      "outputs": [
        {
          "output_type": "stream",
          "text": [
            "Reading package lists... Done\n",
            "Building dependency tree       \n",
            "Reading state information... Done\n",
            "The following package was automatically installed and is no longer required:\n",
            "  libnvidia-common-430\n",
            "Use 'apt autoremove' to remove it.\n",
            "The following NEW packages will be installed:\n",
            "  xvfb\n",
            "0 upgraded, 1 newly installed, 0 to remove and 7 not upgraded.\n",
            "Need to get 783 kB of archives.\n",
            "After this operation, 2,266 kB of additional disk space will be used.\n",
            "Get:1 http://archive.ubuntu.com/ubuntu bionic-updates/universe amd64 xvfb amd64 2:1.19.6-1ubuntu4.3 [783 kB]\n",
            "Fetched 783 kB in 0s (5,613 kB/s)\n",
            "Selecting previously unselected package xvfb.\n",
            "(Reading database ... 134983 files and directories currently installed.)\n",
            "Preparing to unpack .../xvfb_2%3a1.19.6-1ubuntu4.3_amd64.deb ...\n",
            "Unpacking xvfb (2:1.19.6-1ubuntu4.3) ...\n",
            "Setting up xvfb (2:1.19.6-1ubuntu4.3) ...\n",
            "Processing triggers for man-db (2.8.3-2ubuntu0.1) ...\n",
            "Collecting gym==0.10.11\n",
            "\u001b[?25l  Downloading https://files.pythonhosted.org/packages/87/04/70d4901b7105082c9742acd64728342f6da7cd471572fd0660a73f9cfe27/gym-0.10.11.tar.gz (1.5MB)\n",
            "\u001b[K     |████████████████████████████████| 1.5MB 9.5MB/s \n",
            "\u001b[?25hRequirement already satisfied: scipy in /usr/local/lib/python3.6/dist-packages (from gym==0.10.11) (1.3.3)\n",
            "Requirement already satisfied: numpy>=1.10.4 in /usr/local/lib/python3.6/dist-packages (from gym==0.10.11) (1.17.4)\n",
            "Requirement already satisfied: requests>=2.0 in /usr/local/lib/python3.6/dist-packages (from gym==0.10.11) (2.21.0)\n",
            "Requirement already satisfied: six in /usr/local/lib/python3.6/dist-packages (from gym==0.10.11) (1.12.0)\n",
            "Requirement already satisfied: pyglet>=1.2.0 in /usr/local/lib/python3.6/dist-packages (from gym==0.10.11) (1.3.2)\n",
            "Requirement already satisfied: urllib3<1.25,>=1.21.1 in /usr/local/lib/python3.6/dist-packages (from requests>=2.0->gym==0.10.11) (1.24.3)\n",
            "Requirement already satisfied: idna<2.9,>=2.5 in /usr/local/lib/python3.6/dist-packages (from requests>=2.0->gym==0.10.11) (2.8)\n",
            "Requirement already satisfied: chardet<3.1.0,>=3.0.2 in /usr/local/lib/python3.6/dist-packages (from requests>=2.0->gym==0.10.11) (3.0.4)\n",
            "Requirement already satisfied: certifi>=2017.4.17 in /usr/local/lib/python3.6/dist-packages (from requests>=2.0->gym==0.10.11) (2019.11.28)\n",
            "Requirement already satisfied: future in /usr/local/lib/python3.6/dist-packages (from pyglet>=1.2.0->gym==0.10.11) (0.16.0)\n",
            "Building wheels for collected packages: gym\n",
            "  Building wheel for gym (setup.py) ... \u001b[?25l\u001b[?25hdone\n",
            "  Created wheel for gym: filename=gym-0.10.11-cp36-none-any.whl size=1588314 sha256=5bda9bdbfcb2b6944084da4b7bad87b70c10b78696830c950ba44fd1fb819000\n",
            "  Stored in directory: /root/.cache/pip/wheels/7b/eb/1f/22c4124f3c64943aa0646daf4612b1c1f00f27d89b81304ebd\n",
            "Successfully built gym\n",
            "Installing collected packages: gym\n",
            "  Found existing installation: gym 0.15.4\n",
            "    Uninstalling gym-0.15.4:\n",
            "      Successfully uninstalled gym-0.15.4\n",
            "Successfully installed gym-0.10.11\n",
            "Collecting imageio==2.4.0\n",
            "\u001b[?25l  Downloading https://files.pythonhosted.org/packages/ac/64/8e2bb6aac43d6ed7c2d9514320b43d5e80c00f150ee2b9408aee24359e6d/imageio-2.4.0.tar.gz (3.3MB)\n",
            "\u001b[K     |████████████████████████████████| 3.3MB 10.0MB/s \n",
            "\u001b[?25hRequirement already satisfied: numpy in /usr/local/lib/python3.6/dist-packages (from imageio==2.4.0) (1.17.4)\n",
            "Requirement already satisfied: pillow in /usr/local/lib/python3.6/dist-packages (from imageio==2.4.0) (4.3.0)\n",
            "Requirement already satisfied: olefile in /usr/local/lib/python3.6/dist-packages (from pillow->imageio==2.4.0) (0.46)\n",
            "Building wheels for collected packages: imageio\n",
            "  Building wheel for imageio (setup.py) ... \u001b[?25l\u001b[?25hdone\n",
            "  Created wheel for imageio: filename=imageio-2.4.0-cp36-none-any.whl size=3303880 sha256=c4a4568afe04fa31c1e71aee5326d92b1df036c6e988012017019243689e32ed\n",
            "  Stored in directory: /root/.cache/pip/wheels/31/83/88/a1cba54ac06395d9e4ddcd9cf06911cd0b26cd78af9a61071b\n",
            "Successfully built imageio\n",
            "\u001b[31mERROR: albumentations 0.1.12 has requirement imgaug<0.2.7,>=0.2.5, but you'll have imgaug 0.2.9 which is incompatible.\u001b[0m\n",
            "Installing collected packages: imageio\n",
            "  Found existing installation: imageio 2.4.1\n",
            "    Uninstalling imageio-2.4.1:\n",
            "      Successfully uninstalled imageio-2.4.1\n",
            "Successfully installed imageio-2.4.0\n",
            "Requirement already satisfied: PILLOW in /usr/local/lib/python3.6/dist-packages (4.3.0)\n",
            "Requirement already satisfied: olefile in /usr/local/lib/python3.6/dist-packages (from PILLOW) (0.46)\n",
            "Requirement already satisfied: pyglet==1.3.2 in /usr/local/lib/python3.6/dist-packages (1.3.2)\n",
            "Requirement already satisfied: future in /usr/local/lib/python3.6/dist-packages (from pyglet==1.3.2) (0.16.0)\n",
            "Collecting pyvirtualdisplay\n",
            "  Downloading https://files.pythonhosted.org/packages/cf/ad/b15f252bfb0f1693ad3150b55a44a674f3cba711cacdbb9ae2f03f143d19/PyVirtualDisplay-0.2.4-py2.py3-none-any.whl\n",
            "Collecting EasyProcess\n",
            "  Downloading https://files.pythonhosted.org/packages/fa/29/40040d1d64a224a5e44df9572794a66494618ffe5c77199214aeceedb8a7/EasyProcess-0.2.7-py2.py3-none-any.whl\n",
            "Installing collected packages: EasyProcess, pyvirtualdisplay\n",
            "Successfully installed EasyProcess-0.2.7 pyvirtualdisplay-0.2.4\n",
            "Collecting tf-agents-nightly\n",
            "\u001b[?25l  Downloading https://files.pythonhosted.org/packages/c9/d2/af8e09de20bc6355c785e29279860e9d02e5be8de1345bba714fb1c65d0e/tf_agents_nightly-0.2.0.dev20191211-py2.py3-none-any.whl (841kB)\n",
            "\u001b[K     |████████████████████████████████| 849kB 9.6MB/s \n",
            "\u001b[?25hCollecting tfp-nightly\n",
            "\u001b[?25l  Downloading https://files.pythonhosted.org/packages/90/67/c51aeb7f16a0ec092395e2f51c29571103e4caa3f586fa2c2b85de12edc0/tfp_nightly-0.9.0.dev20191211-py2.py3-none-any.whl (2.8MB)\n",
            "\u001b[K     |████████████████████████████████| 2.8MB 55.4MB/s \n",
            "\u001b[?25hRequirement already satisfied: absl-py>=0.6.1 in /usr/local/lib/python3.6/dist-packages (from tf-agents-nightly) (0.8.1)\n",
            "Collecting gin-config==0.1.3\n",
            "\u001b[?25l  Downloading https://files.pythonhosted.org/packages/8c/be/c984b1c8a7ba1c385b32bf39c7a225cd9f713d49705898309d01b60fd0e7/gin_config-0.1.3-py3-none-any.whl (43kB)\n",
            "\u001b[K     |████████████████████████████████| 51kB 6.7MB/s \n",
            "\u001b[?25hRequirement already satisfied: numpy>=1.13.3 in /usr/local/lib/python3.6/dist-packages (from tf-agents-nightly) (1.17.4)\n",
            "Requirement already satisfied: six>=1.10.0 in /usr/local/lib/python3.6/dist-packages (from tf-agents-nightly) (1.12.0)\n",
            "Requirement already satisfied: gast>=0.2 in /usr/local/lib/python3.6/dist-packages (from tfp-nightly->tf-agents-nightly) (0.2.2)\n",
            "Requirement already satisfied: decorator in /usr/local/lib/python3.6/dist-packages (from tfp-nightly->tf-agents-nightly) (4.4.1)\n",
            "Requirement already satisfied: cloudpickle>=1.2.2 in /usr/local/lib/python3.6/dist-packages (from tfp-nightly->tf-agents-nightly) (1.2.2)\n",
            "Installing collected packages: tfp-nightly, gin-config, tf-agents-nightly\n",
            "  Found existing installation: gin-config 0.2.1\n",
            "    Uninstalling gin-config-0.2.1:\n",
            "      Successfully uninstalled gin-config-0.2.1\n",
            "Successfully installed gin-config-0.1.3 tf-agents-nightly-0.2.0.dev20191211 tfp-nightly-0.9.0.dev20191211\n",
            "TensorFlow 2.x selected.\n"
          ],
          "name": "stdout"
        }
      ]
    },
    {
      "cell_type": "code",
      "metadata": {
        "id": "jES_Q4RUXtml",
        "colab_type": "code",
        "outputId": "51a0338d-464a-448f-83e8-0d65dfb8a854",
        "colab": {
          "base_uri": "https://localhost:8080/",
          "height": 35
        }
      },
      "source": [
        "from __future__ import absolute_import, division, print_function\n",
        "\n",
        "import base64\n",
        "import imageio\n",
        "import IPython\n",
        "import matplotlib\n",
        "import matplotlib.pyplot as plt\n",
        "import PIL.Image\n",
        "import pyvirtualdisplay\n",
        "\n",
        "import tensorflow as tf\n",
        "\n",
        "from tf_agents.agents.dqn import dqn_agent\n",
        "from tf_agents.drivers import dynamic_step_driver\n",
        "from tf_agents.environments import suite_gym\n",
        "from tf_agents.environments import tf_py_environment\n",
        "from tf_agents.eval import metric_utils\n",
        "from tf_agents.metrics import tf_metrics\n",
        "from tf_agents.networks import q_network\n",
        "from tf_agents.policies import random_tf_policy\n",
        "from tf_agents.replay_buffers import tf_uniform_replay_buffer\n",
        "from tf_agents.trajectories import trajectory\n",
        "from tf_agents.utils import common\n",
        "\n",
        "\n",
        "\n",
        "tf.compat.v1.enable_v2_behavior()\n",
        "\n",
        "\n",
        "# Set up a virtual display for rendering OpenAI gym environments.\n",
        "display = pyvirtualdisplay.Display(visible=0, size=(1400, 900)).start()"
      ],
      "execution_count": 2,
      "outputs": [
        {
          "output_type": "stream",
          "text": [
            "xdpyinfo was not found, X start can not be checked! Please install xdpyinfo!\n"
          ],
          "name": "stderr"
        }
      ]
    },
    {
      "cell_type": "code",
      "metadata": {
        "id": "T5nfcP8QaLK0",
        "colab_type": "code",
        "colab": {}
      },
      "source": [
        "import tensorflow_probability as tfp\n",
        "import numpy as np\n",
        "\n",
        "from tf_agents.specs import array_spec\n",
        "from tf_agents.specs import tensor_spec\n",
        "from tf_agents.networks import network\n",
        "\n",
        "from tf_agents.policies import py_policy\n",
        "from tf_agents.policies import random_py_policy\n",
        "from tf_agents.policies import scripted_py_policy\n",
        "\n",
        "from tf_agents.policies import tf_policy\n",
        "from tf_agents.policies import random_tf_policy\n",
        "from tf_agents.policies import actor_policy\n",
        "from tf_agents.policies import q_policy\n",
        "from tf_agents.policies import greedy_policy\n",
        "\n",
        "from tf_agents.trajectories import time_step as ts"
      ],
      "execution_count": 0,
      "outputs": []
    },
    {
      "cell_type": "code",
      "metadata": {
        "id": "W7O9fMJyhqob",
        "colab_type": "code",
        "colab": {}
      },
      "source": [
        "num_iterations = 1000000 # @param {type:\"integer\"}\n",
        "\n",
        "initial_collect_steps = 1000  # @param {type:\"integer\"} \n",
        "collect_steps_per_iteration = 1  # @param {type:\"integer\"}\n",
        "replay_buffer_max_length = 100000  # @param {type:\"integer\"}\n",
        "\n",
        "batch_size = 64  # @param {type:\"integer\"}\n",
        "learning_rate = 2.5e-4  # @param {type:\"number\"}\n",
        "log_interval = 500  # @param {type:\"integer\"}\n",
        "n_step_update = 3 # @param {type:\"integer\"}\n",
        "target_update_period = 16 # @param {type:\"integer\"}\n",
        "epsilon_greedy = 0.1 # @param {type:\"number\"}\n",
        "\n",
        "num_eval_episodes = 5  # @param {type:\"integer\"}\n",
        "eval_interval = 1000  # @param {type:\"integer\"}\n",
        "\n"
      ],
      "execution_count": 0,
      "outputs": []
    },
    {
      "cell_type": "markdown",
      "metadata": {
        "id": "9UhZk5LWX1WO",
        "colab_type": "text"
      },
      "source": [
        "# **Environment**"
      ]
    },
    {
      "cell_type": "markdown",
      "metadata": {
        "id": "rAMZcMvBZ3ye",
        "colab_type": "text"
      },
      "source": [
        "Acrobot is a 2-link pendulum with only the second joint actuated. Initially, both links point downwards. The goal is to swing the end-effector at a height at least the length of one link above the base. Both links can swing freely and can pass by each other, i.e., they don't collide when they have the same angle.\n",
        "\n",
        "The obersvations consists of the sin() and cos() of the two rotational joint angles and the joint angular velocities : [cos(theta1) sin(theta1) cos(theta2) sin(theta2) thetaDot1 thetaDot2].\n",
        "\n",
        "The reward is -1 as long as the end-effector does not reach a certain height."
      ]
    },
    {
      "cell_type": "code",
      "metadata": {
        "id": "ALtBWh14X4tJ",
        "colab_type": "code",
        "colab": {}
      },
      "source": [
        "env_name = 'Alien-ram-v0'\n",
        "env = suite_gym.load(env_name)"
      ],
      "execution_count": 0,
      "outputs": []
    },
    {
      "cell_type": "code",
      "metadata": {
        "id": "wugFiZCPYpT9",
        "colab_type": "code",
        "outputId": "a9b2b229-3f19-4d86-e724-10f49bd2469b",
        "colab": {
          "base_uri": "https://localhost:8080/",
          "height": 227
        }
      },
      "source": [
        "env.reset()\n",
        "PIL.Image.fromarray(env.render())"
      ],
      "execution_count": 6,
      "outputs": [
        {
          "output_type": "execute_result",
          "data": {
            "image/png": "[encoded data removed]",
            "text/plain": [
              "<PIL.Image.Image image mode=RGB size=160x210 at 0x7F1E1E00A2B0>"
            ]
          },
          "metadata": {
            "tags": []
          },
          "execution_count": 6
        }
      ]
    },
    {
      "cell_type": "code",
      "metadata": {
        "id": "YUhWJMZ2Ywxh",
        "colab_type": "code",
        "outputId": "15e34e4e-b306-4581-8ad7-ec321cb32ba8",
        "colab": {
          "base_uri": "https://localhost:8080/",
          "height": 72
        }
      },
      "source": [
        "print('Observation Spec:', env.time_step_spec().observation)\n",
        "print('Reward Spec:', env.time_step_spec().reward)\n",
        "print('Action Spec:', env.action_spec())"
      ],
      "execution_count": 7,
      "outputs": [
        {
          "output_type": "stream",
          "text": [
            "Observation Spec: BoundedArraySpec(shape=(128,), dtype=dtype('uint8'), name='observation', minimum=0, maximum=255)\n",
            "Reward Spec: ArraySpec(shape=(), dtype=dtype('float32'), name='reward')\n",
            "Action Spec: BoundedArraySpec(shape=(), dtype=dtype('int64'), name='action', minimum=0, maximum=17)\n"
          ],
          "name": "stdout"
        }
      ]
    },
    {
      "cell_type": "markdown",
      "metadata": {
        "id": "JVFhib6bbgw6",
        "colab_type": "text"
      },
      "source": [
        "Try"
      ]
    },
    {
      "cell_type": "code",
      "metadata": {
        "id": "AplI2YVPbh-j",
        "colab_type": "code",
        "outputId": "d15520bc-e17e-48e7-ff0b-817903fdfc9e",
        "colab": {
          "base_uri": "https://localhost:8080/",
          "height": 617
        }
      },
      "source": [
        "time_step = env.reset()\n",
        "print('Time step:')\n",
        "print(time_step)\n",
        "\n",
        "action = 2\n",
        "\n",
        "next_time_step = env.step(action)\n",
        "print('Next time step:')\n",
        "print(next_time_step)\n",
        "\n",
        "num = 0\n",
        "while not next_time_step.is_last():\n",
        "  next_time_step = env.step(action)\n",
        "  num = num + 1\n",
        "\n",
        "# stop after 500 steps\n",
        "print(num)\n",
        "print(next_time_step)"
      ],
      "execution_count": 8,
      "outputs": [
        {
          "output_type": "stream",
          "text": [
            "Time step:\n",
            "TimeStep(step_type=array(0, dtype=int32), reward=array(0., dtype=float32), discount=array(1., dtype=float32), observation=array([  1,   0,  71, 128,   0, 128, 240, 128, 240, 128, 240, 128, 240,\n",
            "         0, 240, 255,   0, 136, 240,  26, 241,   1,   2,   6,   5,   3,\n",
            "         6,   0,   1,   6, 255,   0,   0,   0,   3,  87,  87,  87, 139,\n",
            "       135,   0,   0,   0,   0,   0,  67,  90,   0,   0,   0,   0,   0,\n",
            "        60,  59,  60, 112, 112, 112, 116, 147, 116,   0,  11,   0,   3,\n",
            "       255,  14, 255, 148, 190,  24, 255, 144, 255,  12, 255,  68, 127,\n",
            "       255, 192, 255, 164, 244,  96, 255,  36, 255, 192, 255, 136, 248,\n",
            "         0,   0,   0,   0,   0,   0,   0,   0,   0,   0,   0,   4,   3,\n",
            "         0,   0,  25,   0,   0,   0,   0,   0,  11,   0,   0,   0, 255,\n",
            "       190,  30,  94, 142,  78,  30, 142,  96, 132, 254, 248], dtype=uint8))\n",
            "Next time step:\n",
            "TimeStep(step_type=array(1, dtype=int32), reward=array(0., dtype=float32), discount=array(1., dtype=float32), observation=array([  0,   0,  74, 128,   0, 128, 240, 128, 240, 128, 240, 128, 240,\n",
            "         0, 240, 255,   0, 136, 240,  26, 241,   1,   2,   6,   5,   3,\n",
            "         6,   0,   1,   6, 255,   0,   0,   0,   3,  87,  87,  87, 103,\n",
            "       135,   0,   0,   0,   0,   0,  67,  90,   0,   0,   0,   0,   0,\n",
            "        60,  59,  60, 112, 112, 112, 116, 147, 116,   0,  14,   0,   3,\n",
            "       255,  14, 255, 148, 190,  24, 255, 144, 255,  12, 255,  68, 127,\n",
            "       255, 192, 255, 164, 244,  96, 255,  36, 255, 192, 255, 136, 248,\n",
            "         0,   0,   0,   0,   0,   0,   0,   0,   0,   0,   0,   4,   3,\n",
            "         0,   0,  23,   0,   0,   0,   0,   0, 142,   0,   0,   0, 255,\n",
            "       190,  30,  94, 142,  78,  30, 142,  96, 132, 254, 248], dtype=uint8))\n",
            "534\n",
            "TimeStep(step_type=array(2, dtype=int32), reward=array(0., dtype=float32), discount=array(0., dtype=float32), observation=array([192,   0, 163, 128,   3, 128,   6, 128, 102, 128, 240, 128,   0,\n",
            "         0, 240,  96,  96, 136, 240,  26, 241,   1,   2,   6,   5,   3,\n",
            "         6,   0,   0,   4,   0,  67, 141, 120,   3,  79,  79,  79,  72,\n",
            "       119,   0,   0,   0,   0,   0,  67,  90,   0,   0,  60,  68,  58,\n",
            "        60,  59,  60, 116, 252, 163, 116, 147, 116,   0, 102,   3,   0,\n",
            "       255,  14, 255, 148, 190,  24, 255, 144, 255,  12, 255,  68, 127,\n",
            "       255, 192, 255, 164, 244,  96, 255,  36, 255, 192, 255, 136, 248,\n",
            "         0,   0,   0,   0,   0,   0,   0, 152, 132,  40, 255,   4,   3,\n",
            "         0,   0,  30,   0,   0,   0,   0,   0,  11,   0,   4,   0, 255,\n",
            "       190,  30,  94, 142,  78,  30, 142,   0, 132,  23, 247], dtype=uint8))\n"
          ],
          "name": "stdout"
        }
      ]
    },
    {
      "cell_type": "markdown",
      "metadata": {
        "id": "ALjSYaNFcZta",
        "colab_type": "text"
      },
      "source": [
        "Instantiate two environment"
      ]
    },
    {
      "cell_type": "code",
      "metadata": {
        "id": "ne2ZOlDQcbzD",
        "colab_type": "code",
        "colab": {}
      },
      "source": [
        "train_py_env = suite_gym.load(env_name)\n",
        "eval_py_env = suite_gym.load(env_name)\n",
        "\n",
        "train_env = tf_py_environment.TFPyEnvironment(train_py_env)\n",
        "eval_env = tf_py_environment.TFPyEnvironment(eval_py_env)"
      ],
      "execution_count": 0,
      "outputs": []
    },
    {
      "cell_type": "markdown",
      "metadata": {
        "id": "WP6dufwvciv6",
        "colab_type": "text"
      },
      "source": [
        "# **Agent**-DQN"
      ]
    },
    {
      "cell_type": "code",
      "metadata": {
        "id": "q58-8ww5hY0o",
        "colab_type": "code",
        "colab": {}
      },
      "source": [
        "#NN Q Function\n",
        "fc_layer_params = (512,256,128,64)\n",
        "\n",
        "q_net = q_network.QNetwork(\n",
        "    train_env.observation_spec(),\n",
        "    train_env.action_spec(),\n",
        "    fc_layer_params=fc_layer_params)"
      ],
      "execution_count": 0,
      "outputs": []
    },
    {
      "cell_type": "code",
      "metadata": {
        "id": "BZvIFLGEhhfq",
        "colab_type": "code",
        "colab": {}
      },
      "source": [
        "optimizer = tf.compat.v1.train.RMSPropOptimizer(learning_rate=learning_rate,\n",
        "                         decay=0.95,\n",
        "                         momentum=0.0,\n",
        "                         epsilon=0.00001,\n",
        "                         centered=True)                \n",
        "\n",
        "train_step_counter = tf.Variable(0)\n",
        "\n",
        "epsilon = tf.compat.v1.train.polynomial_decay(\n",
        "           1.0,\n",
        "           train_step_counter,\n",
        "           100000,\n",
        "           end_learning_rate=epsilon_greedy)\n",
        "\n",
        "\n",
        "agent = dqn_agent.DdqnAgent(\n",
        "    train_env.time_step_spec(),\n",
        "    train_env.action_spec(),\n",
        "    q_network=q_net,\n",
        "    optimizer=optimizer,\n",
        "    td_errors_loss_fn=common.element_wise_squared_loss,\n",
        "    train_step_counter=train_step_counter,\n",
        "    n_step_update=n_step_update,\n",
        "    gamma=0.99,\n",
        "    epsilon_greedy=epsilon\n",
        "    )\n",
        "\n",
        "agent.initialize()"
      ],
      "execution_count": 0,
      "outputs": []
    },
    {
      "cell_type": "markdown",
      "metadata": {
        "id": "ahvWwfysiA2U",
        "colab_type": "text"
      },
      "source": [
        "# **Policies**"
      ]
    },
    {
      "cell_type": "code",
      "metadata": {
        "id": "zte4rQ4Oh5g6",
        "colab_type": "code",
        "colab": {}
      },
      "source": [
        "eval_policy = agent.policy\n",
        "collect_policy = agent.collect_policy\n",
        "\n",
        "random_policy = random_tf_policy.RandomTFPolicy(train_env.time_step_spec(),\n",
        "                          train_env.action_spec())"
      ],
      "execution_count": 0,
      "outputs": []
    },
    {
      "cell_type": "markdown",
      "metadata": {
        "id": "FZ6aipb9ibdF",
        "colab_type": "text"
      },
      "source": [
        "# **Metrix and Evaluation**"
      ]
    },
    {
      "cell_type": "code",
      "metadata": {
        "id": "hdZHMA4Fieuo",
        "colab_type": "code",
        "colab": {}
      },
      "source": [
        "def compute_avg_return(environment, policy, num_episodes=5):\n",
        "\n",
        "  total_return = 0.0\n",
        "  for _ in range(num_episodes):\n",
        "\n",
        "    time_step = environment.reset()\n",
        "    episode_return = 0.0\n",
        "    counts = 0\n",
        "    while not time_step.is_last():\n",
        "      counts = counts + 1\n",
        "      action_step = policy.action(time_step)\n",
        "      time_step = environment.step(action_step.action)\n",
        "      episode_return += time_step.reward\n",
        "    total_return += episode_return\n",
        "  avg_return = total_return / num_episodes\n",
        "  return avg_return.numpy()[0]"
      ],
      "execution_count": 0,
      "outputs": []
    },
    {
      "cell_type": "code",
      "metadata": {
        "id": "jlCAGqlDjyoV",
        "colab_type": "code",
        "outputId": "a024d2e1-3ebd-4acc-96cf-117dc06f5b74",
        "colab": {
          "base_uri": "https://localhost:8080/",
          "height": 35
        }
      },
      "source": [
        "compute_avg_return(eval_env, random_policy, num_eval_episodes)"
      ],
      "execution_count": 14,
      "outputs": [
        {
          "output_type": "execute_result",
          "data": {
            "text/plain": [
              "176.0"
            ]
          },
          "metadata": {
            "tags": []
          },
          "execution_count": 14
        }
      ]
    },
    {
      "cell_type": "markdown",
      "metadata": {
        "id": "O8C26zQORRUM",
        "colab_type": "text"
      },
      "source": [
        "# **Replay Buffer**"
      ]
    },
    {
      "cell_type": "code",
      "metadata": {
        "id": "M6mNw0g7RZM6",
        "colab_type": "code",
        "outputId": "31bf3675-3f99-4107-e91c-578d5ebff737",
        "colab": {
          "base_uri": "https://localhost:8080/",
          "height": 144
        }
      },
      "source": [
        "replay_buffer = tf_uniform_replay_buffer.TFUniformReplayBuffer(\n",
        "    data_spec=agent.collect_data_spec,\n",
        "    batch_size=train_env.batch_size,\n",
        "    max_length=replay_buffer_max_length)\n",
        "\n",
        "agent.collect_data_spec\n",
        "agent.collect_data_spec._fields"
      ],
      "execution_count": 15,
      "outputs": [
        {
          "output_type": "execute_result",
          "data": {
            "text/plain": [
              "('step_type',\n",
              " 'observation',\n",
              " 'action',\n",
              " 'policy_info',\n",
              " 'next_step_type',\n",
              " 'reward',\n",
              " 'discount')"
            ]
          },
          "metadata": {
            "tags": []
          },
          "execution_count": 15
        }
      ]
    },
    {
      "cell_type": "markdown",
      "metadata": {
        "id": "bz5V-JZNUGFq",
        "colab_type": "text"
      },
      "source": [
        "# **Data Collecting Function**"
      ]
    },
    {
      "cell_type": "code",
      "metadata": {
        "id": "HE4XLY4-UJkN",
        "colab_type": "code",
        "colab": {}
      },
      "source": [
        "def collect_step(environment, policy, buffer):\n",
        "  time_step = environment.current_time_step()\n",
        "  action_step = policy.action(time_step)\n",
        "  next_time_step = environment.step(action_step.action)\n",
        "  traj = trajectory.from_transition(time_step, action_step, next_time_step)\n",
        "\n",
        "  # Add trajectory to the replay buffer\n",
        "  buffer.add_batch(traj)\n",
        "\n",
        "def collect_data(env, policy, buffer, steps):\n",
        "  for _ in range(steps):\n",
        "    collect_step(env, policy, buffer)"
      ],
      "execution_count": 0,
      "outputs": []
    },
    {
      "cell_type": "code",
      "metadata": {
        "id": "H9SwxZHe0Bmj",
        "colab_type": "code",
        "colab": {}
      },
      "source": [
        "collect_data(train_env, agent.collect_policy, replay_buffer, 3)"
      ],
      "execution_count": 0,
      "outputs": []
    },
    {
      "cell_type": "code",
      "metadata": {
        "id": "uWVPeGb2VPGH",
        "colab_type": "code",
        "outputId": "8f19063b-eb88-43d5-b333-d4d1355a0d82",
        "colab": {
          "base_uri": "https://localhost:8080/",
          "height": 35
        }
      },
      "source": [
        "dataset = replay_buffer.as_dataset(\n",
        "    num_parallel_calls=3, \n",
        "    sample_batch_size=batch_size, \n",
        "    num_steps=n_step_update+1).prefetch(3)\n",
        "\n",
        "iterator = iter(dataset)\n",
        "\n",
        "print(iterator)"
      ],
      "execution_count": 18,
      "outputs": [
        {
          "output_type": "stream",
          "text": [
            "<tensorflow.python.data.ops.iterator_ops.IteratorV2 object at 0x7f1e1c217438>\n"
          ],
          "name": "stdout"
        }
      ]
    },
    {
      "cell_type": "markdown",
      "metadata": {
        "id": "gs0lOVYmUL4S",
        "colab_type": "text"
      },
      "source": [
        "# **Train**"
      ]
    },
    {
      "cell_type": "code",
      "metadata": {
        "id": "xxq4BzcvUNoJ",
        "colab_type": "code",
        "outputId": "50407964-e3fe-43df-b2a6-296add6c3469",
        "colab": {
          "base_uri": "https://localhost:8080/",
          "height": 1000
        }
      },
      "source": [
        "%%time\n",
        "\n",
        "# (Optional) Optimize by wrapping some of the code in a graph using TF function.\n",
        "agent.train = common.function(agent.train)\n",
        "\n",
        "# Reset the train step\n",
        "agent.train_step_counter.assign(0)\n",
        "\n",
        "# Evaluate the agent's policy once before training.\n",
        "avg_return = compute_avg_return(eval_env, agent.policy, num_eval_episodes)\n",
        "returns = [avg_return]\n",
        "\n",
        "for _ in range(num_iterations):\n",
        "\n",
        "  # Collect a few steps using collect_policy and save to the replay buffer.\n",
        "  for _ in range(collect_steps_per_iteration):\n",
        "    collect_step(train_env, agent.collect_policy, replay_buffer)\n",
        "  \n",
        "  # Sample a batch of data from the buffer and update the agent's network.\n",
        "  experience, unused_info = next(iterator)\n",
        "  train_loss = agent.train(experience).loss\n",
        "  \n",
        "  step = agent.train_step_counter.numpy()\n",
        "\n",
        "  if step % log_interval == 0:\n",
        "    print('step = {0}: loss = {1}'.format(step, train_loss))\n",
        "\n",
        "  if step % eval_interval == 0:\n",
        "    avg_return = compute_avg_return(eval_env, agent.policy, num_eval_episodes)\n",
        "    print('step = {0}: Average Return = {1}'.format(step, avg_return))\n",
        "    returns.append(avg_return)"
      ],
      "execution_count": 0,
      "outputs": [
        {
          "output_type": "stream",
          "text": [
            "step = 500: loss = 1213.203857421875\n",
            "step = 1000: loss = 180342.09375\n",
            "step = 1000: Average Return = 30.0\n",
            "step = 1500: loss = 8455.04296875\n",
            "step = 2000: loss = 15510.80859375\n",
            "step = 2000: Average Return = 168.0\n",
            "step = 2500: loss = 3573.30126953125\n",
            "step = 3000: loss = 10618.119140625\n",
            "step = 3000: Average Return = 118.0\n",
            "step = 3500: loss = 1908.63037109375\n",
            "step = 4000: loss = 1778.244873046875\n",
            "step = 4000: Average Return = 30.0\n",
            "step = 4500: loss = 492.2513732910156\n",
            "step = 5000: loss = 1790.431396484375\n",
            "step = 5000: Average Return = 30.0\n",
            "step = 5500: loss = 1104.606689453125\n",
            "step = 6000: loss = 1154.6064453125\n",
            "step = 6000: Average Return = 30.0\n",
            "step = 6500: loss = 1205.4296875\n",
            "step = 7000: loss = 490.7835693359375\n",
            "step = 7000: Average Return = 118.0\n",
            "step = 7500: loss = 282.175537109375\n",
            "step = 8000: loss = 1084.765869140625\n",
            "step = 8000: Average Return = 248.0\n",
            "step = 8500: loss = 338.3275146484375\n",
            "step = 9000: loss = 260.5718994140625\n",
            "step = 9000: Average Return = 366.0\n",
            "step = 9500: loss = 397.5164794921875\n",
            "step = 10000: loss = 142.044677734375\n",
            "step = 10000: Average Return = 130.0\n",
            "step = 10500: loss = 142.57151794433594\n",
            "step = 11000: loss = 73.65331268310547\n",
            "step = 11000: Average Return = 122.0\n",
            "step = 11500: loss = 394.7508850097656\n",
            "step = 12000: loss = 86.02824401855469\n",
            "step = 12000: Average Return = 328.0\n",
            "step = 12500: loss = 28.107662200927734\n",
            "step = 13000: loss = 53.395301818847656\n",
            "step = 13000: Average Return = 234.0\n",
            "step = 13500: loss = 188.22601318359375\n",
            "step = 14000: loss = 74.82803344726562\n",
            "step = 14000: Average Return = 0.0\n",
            "step = 14500: loss = 91.13223266601562\n",
            "step = 15000: loss = 77.28264617919922\n",
            "step = 15000: Average Return = 314.0\n",
            "step = 15500: loss = 72.46385192871094\n",
            "step = 16000: loss = 62.149993896484375\n",
            "step = 16000: Average Return = 30.0\n",
            "step = 16500: loss = 59.32143020629883\n",
            "step = 17000: loss = 33.12010192871094\n",
            "step = 17000: Average Return = 100.0\n",
            "step = 17500: loss = 20.90740394592285\n",
            "step = 18000: loss = 269.13348388671875\n",
            "step = 18000: Average Return = 0.0\n",
            "step = 18500: loss = 15.514959335327148\n",
            "step = 19000: loss = 15.693489074707031\n",
            "step = 19000: Average Return = 316.0\n",
            "step = 19500: loss = 11.753539085388184\n",
            "step = 20000: loss = 73.0462646484375\n",
            "step = 20000: Average Return = 6.0\n",
            "step = 20500: loss = 87.74696350097656\n",
            "step = 21000: loss = 178.51620483398438\n",
            "step = 21000: Average Return = 196.0\n",
            "step = 21500: loss = 45.30393981933594\n",
            "step = 22000: loss = 10.963645935058594\n",
            "step = 22000: Average Return = 142.0\n",
            "step = 22500: loss = 29.696826934814453\n",
            "step = 23000: loss = 17.94306182861328\n",
            "step = 23000: Average Return = 74.0\n",
            "step = 23500: loss = 506.9911804199219\n",
            "step = 24000: loss = 36.56661605834961\n",
            "step = 24000: Average Return = 140.0\n",
            "step = 24500: loss = 8.292016983032227\n",
            "step = 25000: loss = 8.912553787231445\n",
            "step = 25000: Average Return = 0.0\n",
            "step = 25500: loss = 5.69956111907959\n",
            "step = 26000: loss = 24.877758026123047\n",
            "step = 26000: Average Return = 250.0\n",
            "step = 26500: loss = 226.81373596191406\n",
            "step = 27000: loss = 10.536917686462402\n",
            "step = 27000: Average Return = 118.0\n",
            "step = 27500: loss = 658.6151733398438\n",
            "step = 28000: loss = 10.852567672729492\n",
            "step = 28000: Average Return = 382.0\n",
            "step = 28500: loss = 225.1474151611328\n",
            "step = 29000: loss = 387.5089416503906\n",
            "step = 29000: Average Return = 0.0\n",
            "step = 29500: loss = 691.27783203125\n",
            "step = 30000: loss = 21.758514404296875\n",
            "step = 30000: Average Return = 166.0\n",
            "step = 30500: loss = 27.004989624023438\n",
            "step = 31000: loss = 31.013683319091797\n",
            "step = 31000: Average Return = 212.0\n",
            "step = 31500: loss = 13.751479148864746\n",
            "step = 32000: loss = 15.59979248046875\n",
            "step = 32000: Average Return = 0.0\n",
            "step = 32500: loss = 596.192138671875\n",
            "step = 33000: loss = 37.0349235534668\n",
            "step = 33000: Average Return = 120.0\n",
            "step = 33500: loss = 8.613225936889648\n",
            "step = 34000: loss = 18.680522918701172\n",
            "step = 34000: Average Return = 228.0\n",
            "step = 34500: loss = 4117.1640625\n",
            "step = 35000: loss = 85.83029174804688\n",
            "step = 35000: Average Return = 188.0\n",
            "step = 35500: loss = 2015.737548828125\n",
            "step = 36000: loss = 22.51253318786621\n",
            "step = 36000: Average Return = 100.0\n",
            "step = 36500: loss = 18.781139373779297\n",
            "step = 37000: loss = 671.9415283203125\n",
            "step = 37000: Average Return = 160.0\n",
            "step = 37500: loss = 11742.0419921875\n",
            "step = 38000: loss = 36.917415618896484\n",
            "step = 38000: Average Return = 32.0\n",
            "step = 38500: loss = 34.48042678833008\n",
            "step = 39000: loss = 22.54934310913086\n",
            "step = 39000: Average Return = 250.0\n",
            "step = 39500: loss = 172.25253295898438\n",
            "step = 40000: loss = 44.72887420654297\n",
            "step = 40000: Average Return = 140.0\n",
            "step = 40500: loss = 23.51906967163086\n",
            "step = 41000: loss = 67.24346160888672\n",
            "step = 41000: Average Return = 194.0\n",
            "step = 41500: loss = 478.4312438964844\n",
            "step = 42000: loss = 11080.2890625\n",
            "step = 42000: Average Return = 140.0\n",
            "step = 42500: loss = 13169.5615234375\n",
            "step = 43000: loss = 28126.69140625\n",
            "step = 43000: Average Return = 100.0\n",
            "step = 43500: loss = 47.49681854248047\n",
            "step = 44000: loss = 16.993070602416992\n",
            "step = 44000: Average Return = 0.0\n",
            "step = 44500: loss = 14.63051986694336\n",
            "step = 45000: loss = 140.96792602539062\n",
            "step = 45000: Average Return = 208.0\n",
            "step = 45500: loss = 16.238666534423828\n",
            "step = 46000: loss = 27.14464569091797\n",
            "step = 46000: Average Return = 34.0\n",
            "step = 46500: loss = 24.37579345703125\n",
            "step = 47000: loss = 34.04297637939453\n",
            "step = 47000: Average Return = 140.0\n",
            "step = 47500: loss = 7.780783176422119\n",
            "step = 48000: loss = 16.295089721679688\n",
            "step = 48000: Average Return = 30.0\n",
            "step = 48500: loss = 25.689456939697266\n",
            "step = 49000: loss = 156.15025329589844\n",
            "step = 49000: Average Return = 242.0\n",
            "step = 49500: loss = 93.39108276367188\n",
            "step = 50000: loss = 19.950515747070312\n",
            "step = 50000: Average Return = 0.0\n",
            "step = 50500: loss = 20.973997116088867\n",
            "step = 51000: loss = 74507.421875\n",
            "step = 51000: Average Return = 140.0\n",
            "step = 51500: loss = 21.517131805419922\n",
            "step = 52000: loss = 58.61027526855469\n",
            "step = 52000: Average Return = 30.0\n",
            "step = 52500: loss = 301.8968505859375\n",
            "step = 53000: loss = 4563.20556640625\n",
            "step = 53000: Average Return = 0.0\n",
            "step = 53500: loss = 40.82946014404297\n",
            "step = 54000: loss = 18.14876937866211\n",
            "step = 54000: Average Return = 100.0\n",
            "step = 54500: loss = 76.79743957519531\n",
            "step = 55000: loss = 13.476876258850098\n",
            "step = 55000: Average Return = 0.0\n",
            "step = 55500: loss = 4.362914562225342\n",
            "step = 56000: loss = 14325.49609375\n",
            "step = 56000: Average Return = 140.0\n",
            "step = 56500: loss = 1038.09130859375\n",
            "step = 57000: loss = 5.785408020019531\n",
            "step = 57000: Average Return = 208.0\n",
            "step = 57500: loss = 23.267362594604492\n",
            "step = 58000: loss = 10.607627868652344\n",
            "step = 58000: Average Return = 140.0\n",
            "step = 58500: loss = 27.737083435058594\n",
            "step = 59000: loss = 7.008001804351807\n",
            "step = 59000: Average Return = 0.0\n",
            "step = 59500: loss = 21.996898651123047\n",
            "step = 60000: loss = 3801.510498046875\n",
            "step = 60000: Average Return = 0.0\n",
            "step = 60500: loss = 172.12603759765625\n",
            "step = 61000: loss = 111.88447570800781\n",
            "step = 61000: Average Return = 100.0\n",
            "step = 61500: loss = 39.8354606628418\n",
            "step = 62000: loss = 15.06856918334961\n",
            "step = 62000: Average Return = 40.0\n",
            "step = 62500: loss = 13.105630874633789\n",
            "step = 63000: loss = 15.6331148147583\n",
            "step = 63000: Average Return = 0.0\n",
            "step = 63500: loss = 11.568931579589844\n",
            "step = 64000: loss = 7.566417694091797\n",
            "step = 64000: Average Return = 30.0\n",
            "step = 64500: loss = 30.674474716186523\n",
            "step = 65000: loss = 13.57089614868164\n",
            "step = 65000: Average Return = 280.0\n",
            "step = 65500: loss = 170.0128936767578\n",
            "step = 66000: loss = 20.394123077392578\n",
            "step = 66000: Average Return = 80.0\n",
            "step = 66500: loss = 24.204896926879883\n",
            "step = 67000: loss = 12.40646743774414\n",
            "step = 67000: Average Return = 0.0\n",
            "step = 67500: loss = 40.41738510131836\n",
            "step = 68000: loss = 17.459962844848633\n",
            "step = 68000: Average Return = 36.0\n",
            "step = 68500: loss = 15.305741310119629\n",
            "step = 69000: loss = 375.0517883300781\n",
            "step = 69000: Average Return = 88.0\n",
            "step = 69500: loss = 57.43983840942383\n",
            "step = 70000: loss = 39.6965217590332\n",
            "step = 70000: Average Return = 140.0\n",
            "step = 70500: loss = 15.363655090332031\n",
            "step = 71000: loss = 5.740262508392334\n",
            "step = 71000: Average Return = 128.0\n",
            "step = 71500: loss = 13.343259811401367\n",
            "step = 72000: loss = 22.28200912475586\n",
            "step = 72000: Average Return = 174.0\n",
            "step = 72500: loss = 66.90105438232422\n",
            "step = 73000: loss = 84.94825744628906\n",
            "step = 73000: Average Return = 30.0\n",
            "step = 73500: loss = 11.853401184082031\n",
            "step = 74000: loss = 9.479080200195312\n",
            "step = 74000: Average Return = 70.0\n",
            "step = 74500: loss = 15.32893180847168\n",
            "step = 75000: loss = 7318.8310546875\n",
            "step = 75000: Average Return = 30.0\n",
            "step = 75500: loss = 5.034930229187012\n",
            "step = 76000: loss = 38.84551239013672\n",
            "step = 76000: Average Return = 154.0\n",
            "step = 76500: loss = 11.102508544921875\n",
            "step = 77000: loss = 10.158414840698242\n",
            "step = 77000: Average Return = 30.0\n",
            "step = 77500: loss = 46.445316314697266\n",
            "step = 78000: loss = 20.384109497070312\n",
            "step = 78000: Average Return = 84.0\n",
            "step = 78500: loss = 145.7172088623047\n",
            "step = 79000: loss = 11.659672737121582\n",
            "step = 79000: Average Return = 0.0\n",
            "step = 79500: loss = 18.45215606689453\n",
            "step = 80000: loss = 13.799823760986328\n",
            "step = 80000: Average Return = 0.0\n",
            "step = 80500: loss = 30.00516128540039\n",
            "step = 81000: loss = 22.86840057373047\n",
            "step = 81000: Average Return = 30.0\n",
            "step = 81500: loss = 1687.908935546875\n",
            "step = 82000: loss = 280.86572265625\n",
            "step = 82000: Average Return = 140.0\n",
            "step = 82500: loss = 184.60952758789062\n",
            "step = 83000: loss = 44.859622955322266\n",
            "step = 83000: Average Return = 354.0\n",
            "step = 83500: loss = 4.15556001663208\n",
            "step = 84000: loss = 147.9012908935547\n",
            "step = 84000: Average Return = 276.0\n",
            "step = 84500: loss = 1976.8861083984375\n",
            "step = 85000: loss = 18.94298553466797\n",
            "step = 85000: Average Return = 100.0\n",
            "step = 85500: loss = 5376.84814453125\n",
            "step = 86000: loss = 17.231107711791992\n",
            "step = 86000: Average Return = 140.0\n",
            "step = 86500: loss = 421.7290954589844\n",
            "step = 87000: loss = 10.540876388549805\n",
            "step = 87000: Average Return = 140.0\n",
            "step = 87500: loss = 32.65533447265625\n",
            "step = 88000: loss = 11.849720001220703\n",
            "step = 88000: Average Return = 30.0\n",
            "step = 88500: loss = 718.0650634765625\n",
            "step = 89000: loss = 27.501779556274414\n",
            "step = 89000: Average Return = 0.0\n",
            "step = 89500: loss = 42.295440673828125\n",
            "step = 90000: loss = 2260.755859375\n",
            "step = 90000: Average Return = 30.0\n",
            "step = 90500: loss = 51.14898681640625\n",
            "step = 91000: loss = 13.546141624450684\n",
            "step = 91000: Average Return = 138.0\n",
            "step = 91500: loss = 304.005615234375\n",
            "step = 92000: loss = 1648.65625\n",
            "step = 92000: Average Return = 0.0\n",
            "step = 92500: loss = 29.687782287597656\n",
            "step = 93000: loss = 29.25948143005371\n",
            "step = 93000: Average Return = 0.0\n",
            "step = 93500: loss = 403.80303955078125\n",
            "step = 94000: loss = 45.956233978271484\n",
            "step = 94000: Average Return = 30.0\n",
            "step = 94500: loss = 54.854736328125\n",
            "step = 95000: loss = 37.854618072509766\n",
            "step = 95000: Average Return = 30.0\n",
            "step = 95500: loss = 17.73192596435547\n",
            "step = 96000: loss = 23.73259162902832\n",
            "step = 96000: Average Return = 30.0\n",
            "step = 96500: loss = 9.00379467010498\n",
            "step = 97000: loss = 19.25396728515625\n",
            "step = 97000: Average Return = 270.0\n",
            "step = 97500: loss = 23.899463653564453\n",
            "step = 98000: loss = 119.2947006225586\n",
            "step = 98000: Average Return = 100.0\n",
            "step = 98500: loss = 33.17586135864258\n",
            "step = 99000: loss = 25.47177505493164\n",
            "step = 99000: Average Return = 42.0\n",
            "step = 99500: loss = 115.98676300048828\n",
            "step = 100000: loss = 708.0819702148438\n",
            "step = 100000: Average Return = 30.0\n",
            "step = 100500: loss = 21.44683837890625\n",
            "step = 101000: loss = 51.07854461669922\n",
            "step = 101000: Average Return = 100.0\n",
            "step = 101500: loss = 8.943232536315918\n",
            "step = 102000: loss = 15.50871467590332\n",
            "step = 102000: Average Return = 140.0\n",
            "step = 102500: loss = 512.5369262695312\n",
            "step = 103000: loss = 19.669292449951172\n",
            "step = 103000: Average Return = 100.0\n",
            "step = 103500: loss = 351.5389404296875\n",
            "step = 104000: loss = 17.99391746520996\n",
            "step = 104000: Average Return = 200.0\n",
            "step = 104500: loss = 22.096416473388672\n",
            "step = 105000: loss = 5.449934959411621\n",
            "step = 105000: Average Return = 210.0\n",
            "step = 105500: loss = 8989.4140625\n",
            "step = 106000: loss = 19.631074905395508\n",
            "step = 106000: Average Return = 0.0\n",
            "step = 106500: loss = 23.672924041748047\n",
            "step = 107000: loss = 56.54411697387695\n",
            "step = 107000: Average Return = 100.0\n",
            "step = 107500: loss = 13.22464370727539\n",
            "step = 108000: loss = 12.056885719299316\n",
            "step = 108000: Average Return = 140.0\n",
            "step = 108500: loss = 19.973302841186523\n",
            "step = 109000: loss = 12.81821346282959\n",
            "step = 109000: Average Return = 252.0\n",
            "step = 109500: loss = 95.58673858642578\n",
            "step = 110000: loss = 20.202289581298828\n",
            "step = 110000: Average Return = 140.0\n",
            "step = 110500: loss = 11.83535385131836\n",
            "step = 111000: loss = 10.125415802001953\n",
            "step = 111000: Average Return = 0.0\n",
            "step = 111500: loss = 35.42005920410156\n",
            "step = 112000: loss = 12.002439498901367\n",
            "step = 112000: Average Return = 18.0\n",
            "step = 112500: loss = 211.40374755859375\n",
            "step = 113000: loss = 12.301267623901367\n",
            "step = 113000: Average Return = 30.0\n",
            "step = 113500: loss = 33.648719787597656\n",
            "step = 114000: loss = 17.991722106933594\n",
            "step = 114000: Average Return = 100.0\n",
            "step = 114500: loss = 15.282388687133789\n",
            "step = 115000: loss = 38.62648391723633\n",
            "step = 115000: Average Return = 136.0\n",
            "step = 115500: loss = 21.928871154785156\n",
            "step = 116000: loss = 93.23533630371094\n",
            "step = 116000: Average Return = 244.0\n",
            "step = 116500: loss = 7.6353759765625\n",
            "step = 117000: loss = 12.984130859375\n",
            "step = 117000: Average Return = 120.0\n",
            "step = 117500: loss = 11.344698905944824\n",
            "step = 118000: loss = 47.342071533203125\n",
            "step = 118000: Average Return = 140.0\n",
            "step = 118500: loss = 10.039741516113281\n",
            "step = 119000: loss = 23.360700607299805\n",
            "step = 119000: Average Return = 230.0\n",
            "step = 119500: loss = 10.318269729614258\n",
            "step = 120000: loss = 25.869617462158203\n",
            "step = 120000: Average Return = 100.0\n",
            "step = 120500: loss = 18.823562622070312\n",
            "step = 121000: loss = 12.743877410888672\n",
            "step = 121000: Average Return = 100.0\n",
            "step = 121500: loss = 7.1262712478637695\n",
            "step = 122000: loss = 20.81331443786621\n",
            "step = 122000: Average Return = 164.0\n",
            "step = 122500: loss = 12.905261993408203\n",
            "step = 123000: loss = 10.398748397827148\n",
            "step = 123000: Average Return = 30.0\n",
            "step = 123500: loss = 4.759439468383789\n",
            "step = 124000: loss = 12.547489166259766\n",
            "step = 124000: Average Return = 30.0\n",
            "step = 124500: loss = 25.433658599853516\n",
            "step = 125000: loss = 3697.16748046875\n",
            "step = 125000: Average Return = 100.0\n",
            "step = 125500: loss = 12.944635391235352\n",
            "step = 126000: loss = 12.509780883789062\n",
            "step = 126000: Average Return = 50.0\n",
            "step = 126500: loss = 15.69384479522705\n",
            "step = 127000: loss = 42.15068817138672\n",
            "step = 127000: Average Return = 336.0\n",
            "step = 127500: loss = 15.378210067749023\n",
            "step = 128000: loss = 96.8384780883789\n",
            "step = 128000: Average Return = 0.0\n",
            "step = 128500: loss = 21.253582000732422\n",
            "step = 129000: loss = 17.480731964111328\n",
            "step = 129000: Average Return = 140.0\n",
            "step = 129500: loss = 23.080116271972656\n",
            "step = 130000: loss = 12.999065399169922\n",
            "step = 130000: Average Return = 0.0\n",
            "step = 130500: loss = 22.847415924072266\n",
            "step = 131000: loss = 27.804912567138672\n",
            "step = 131000: Average Return = 30.0\n",
            "step = 131500: loss = 34.49882125854492\n",
            "step = 132000: loss = 18.29725456237793\n",
            "step = 132000: Average Return = 244.0\n",
            "step = 132500: loss = 23.84222412109375\n",
            "step = 133000: loss = 11.50593376159668\n",
            "step = 133000: Average Return = 158.0\n",
            "step = 133500: loss = 25.22113800048828\n",
            "step = 134000: loss = 21.273513793945312\n",
            "step = 134000: Average Return = 266.0\n",
            "step = 134500: loss = 22.817363739013672\n",
            "step = 135000: loss = 23.360393524169922\n",
            "step = 135000: Average Return = 0.0\n",
            "step = 135500: loss = 8.825518608093262\n",
            "step = 136000: loss = 8.628924369812012\n",
            "step = 136000: Average Return = 0.0\n",
            "step = 136500: loss = 11.618358612060547\n",
            "step = 137000: loss = 9.51405143737793\n",
            "step = 137000: Average Return = 100.0\n",
            "step = 137500: loss = 20.28846549987793\n",
            "step = 138000: loss = 49.818443298339844\n",
            "step = 138000: Average Return = 240.0\n",
            "step = 138500: loss = 21.833450317382812\n",
            "step = 139000: loss = 37.66735076904297\n",
            "step = 139000: Average Return = 130.0\n",
            "step = 139500: loss = 16.849449157714844\n",
            "step = 140000: loss = 23.574920654296875\n",
            "step = 140000: Average Return = 100.0\n",
            "step = 140500: loss = 21.995628356933594\n",
            "step = 141000: loss = 15.004596710205078\n",
            "step = 141000: Average Return = 250.0\n",
            "step = 141500: loss = 25.933860778808594\n",
            "step = 142000: loss = 20.61383056640625\n",
            "step = 142000: Average Return = 346.0\n",
            "step = 142500: loss = 6.439027309417725\n",
            "step = 143000: loss = 8.008028030395508\n",
            "step = 143000: Average Return = 0.0\n",
            "step = 143500: loss = 18.476797103881836\n",
            "step = 144000: loss = 19.984956741333008\n",
            "step = 144000: Average Return = 320.0\n",
            "step = 144500: loss = 26.893905639648438\n",
            "step = 145000: loss = 29.39392852783203\n",
            "step = 145000: Average Return = 508.0\n",
            "step = 145500: loss = 27.321125030517578\n",
            "step = 146000: loss = 20.091533660888672\n",
            "step = 146000: Average Return = 208.0\n",
            "step = 146500: loss = 16.095115661621094\n",
            "step = 147000: loss = 25.332908630371094\n",
            "step = 147000: Average Return = 140.0\n",
            "step = 147500: loss = 13.701789855957031\n",
            "step = 148000: loss = 14.411016464233398\n",
            "step = 148000: Average Return = 262.0\n",
            "step = 148500: loss = 15.055068969726562\n",
            "step = 149000: loss = 11.433640480041504\n",
            "step = 149000: Average Return = 134.0\n",
            "step = 149500: loss = 21.025802612304688\n",
            "step = 150000: loss = 21.21275520324707\n",
            "step = 150000: Average Return = 0.0\n",
            "step = 150500: loss = 24.17428970336914\n",
            "step = 151000: loss = 22.955020904541016\n",
            "step = 151000: Average Return = 342.0\n",
            "step = 151500: loss = 15.72542953491211\n",
            "step = 152000: loss = 23.32324981689453\n",
            "step = 152000: Average Return = 140.0\n",
            "step = 152500: loss = 15.838396072387695\n",
            "step = 153000: loss = 19.801361083984375\n",
            "step = 153000: Average Return = 0.0\n",
            "step = 153500: loss = 31.929317474365234\n",
            "step = 154000: loss = 13.809677124023438\n",
            "step = 154000: Average Return = 156.0\n",
            "step = 154500: loss = 11.94154167175293\n",
            "step = 155000: loss = 24.454498291015625\n",
            "step = 155000: Average Return = 254.0\n",
            "step = 155500: loss = 14.074617385864258\n",
            "step = 156000: loss = 17.131919860839844\n",
            "step = 156000: Average Return = 394.0\n",
            "step = 156500: loss = 15.916387557983398\n",
            "step = 157000: loss = 10.885412216186523\n",
            "step = 157000: Average Return = 68.0\n",
            "step = 157500: loss = 11.771946907043457\n",
            "step = 158000: loss = 47.216766357421875\n",
            "step = 158000: Average Return = 492.0\n",
            "step = 158500: loss = 25.263507843017578\n",
            "step = 159000: loss = 16.412738800048828\n",
            "step = 159000: Average Return = 202.0\n",
            "step = 159500: loss = 14.99770736694336\n",
            "step = 160000: loss = 16.156856536865234\n",
            "step = 160000: Average Return = 0.0\n",
            "step = 160500: loss = 10.919805526733398\n",
            "step = 161000: loss = 19.866106033325195\n",
            "step = 161000: Average Return = 30.0\n",
            "step = 161500: loss = 17.171863555908203\n",
            "step = 162000: loss = 15.678791999816895\n",
            "step = 162000: Average Return = 346.0\n",
            "step = 162500: loss = 15.648258209228516\n",
            "step = 163000: loss = 19.518512725830078\n",
            "step = 163000: Average Return = 30.0\n",
            "step = 163500: loss = 11.466976165771484\n",
            "step = 164000: loss = 19.36979103088379\n",
            "step = 164000: Average Return = 50.0\n",
            "step = 164500: loss = 33.96738052368164\n",
            "step = 165000: loss = 15.372096061706543\n",
            "step = 165000: Average Return = 30.0\n",
            "step = 165500: loss = 23.532062530517578\n",
            "step = 166000: loss = 27.198383331298828\n",
            "step = 166000: Average Return = 422.0\n",
            "step = 166500: loss = 15.659624099731445\n",
            "step = 167000: loss = 17.096235275268555\n",
            "step = 167000: Average Return = 198.0\n",
            "step = 167500: loss = 11.190237045288086\n",
            "step = 168000: loss = 21.775875091552734\n",
            "step = 168000: Average Return = 272.0\n",
            "step = 168500: loss = 21.06857681274414\n",
            "step = 169000: loss = 29.92591094970703\n",
            "step = 169000: Average Return = 312.0\n",
            "step = 169500: loss = 19.00419044494629\n",
            "step = 170000: loss = 25.588634490966797\n",
            "step = 170000: Average Return = 596.0\n",
            "step = 170500: loss = 13.809882164001465\n",
            "step = 171000: loss = 8.748164176940918\n",
            "step = 171000: Average Return = 458.0\n",
            "step = 171500: loss = 20.840057373046875\n",
            "step = 172000: loss = 39.77477264404297\n",
            "step = 172000: Average Return = 322.0\n",
            "step = 172500: loss = 19.279239654541016\n",
            "step = 173000: loss = 22.88640785217285\n",
            "step = 173000: Average Return = 202.0\n",
            "step = 173500: loss = 11.623169898986816\n",
            "step = 174000: loss = 24.811046600341797\n",
            "step = 174000: Average Return = 210.0\n",
            "step = 174500: loss = 30.502614974975586\n",
            "step = 175000: loss = 11.226568222045898\n",
            "step = 175000: Average Return = 0.0\n",
            "step = 175500: loss = 17.33978843688965\n",
            "step = 176000: loss = 9.176212310791016\n",
            "step = 176000: Average Return = 376.0\n",
            "step = 176500: loss = 35.19625473022461\n",
            "step = 177000: loss = 14.104791641235352\n",
            "step = 177000: Average Return = 212.0\n",
            "step = 177500: loss = 35.07621383666992\n",
            "step = 178000: loss = 17.517223358154297\n",
            "step = 178000: Average Return = 484.0\n",
            "step = 178500: loss = 13.987323760986328\n",
            "step = 179000: loss = 15.809988021850586\n",
            "step = 179000: Average Return = 110.0\n",
            "step = 179500: loss = 12.79037094116211\n",
            "step = 180000: loss = 24.030555725097656\n",
            "step = 180000: Average Return = 284.0\n",
            "step = 180500: loss = 10.208659172058105\n",
            "step = 181000: loss = 20.013648986816406\n",
            "step = 181000: Average Return = 100.0\n",
            "step = 181500: loss = 24.699304580688477\n",
            "step = 182000: loss = 54.8494873046875\n",
            "step = 182000: Average Return = 102.0\n",
            "step = 182500: loss = 14.670734405517578\n",
            "step = 183000: loss = 33.97224426269531\n",
            "step = 183000: Average Return = 100.0\n",
            "step = 183500: loss = 28.643798828125\n",
            "step = 184000: loss = 35.888755798339844\n",
            "step = 184000: Average Return = 30.0\n",
            "step = 184500: loss = 21.508243560791016\n",
            "step = 185000: loss = 16.977174758911133\n",
            "step = 185000: Average Return = 202.0\n",
            "step = 185500: loss = 13.490360260009766\n",
            "step = 186000: loss = 20.005084991455078\n",
            "step = 186000: Average Return = 170.0\n",
            "step = 186500: loss = 24.732765197753906\n",
            "step = 187000: loss = 31.450014114379883\n",
            "step = 187000: Average Return = 116.0\n",
            "step = 187500: loss = 15.442487716674805\n",
            "step = 188000: loss = 33.614498138427734\n",
            "step = 188000: Average Return = 134.0\n",
            "step = 188500: loss = 13.315560340881348\n",
            "step = 189000: loss = 32.43547058105469\n",
            "step = 189000: Average Return = 540.0\n",
            "step = 189500: loss = 9.434924125671387\n",
            "step = 190000: loss = 27.596099853515625\n",
            "step = 190000: Average Return = 190.0\n",
            "step = 190500: loss = 14.723989486694336\n",
            "step = 191000: loss = 23.653196334838867\n",
            "step = 191000: Average Return = 50.0\n",
            "step = 191500: loss = 23.72406578063965\n",
            "step = 192000: loss = 34.010501861572266\n",
            "step = 192000: Average Return = 30.0\n",
            "step = 192500: loss = 13.278525352478027\n",
            "step = 193000: loss = 35.447044372558594\n",
            "step = 193000: Average Return = 0.0\n",
            "step = 193500: loss = 14.119356155395508\n",
            "step = 194000: loss = 19.93613052368164\n",
            "step = 194000: Average Return = 316.0\n",
            "step = 194500: loss = 21.253318786621094\n",
            "step = 195000: loss = 13.678335189819336\n",
            "step = 195000: Average Return = 210.0\n",
            "step = 195500: loss = 24.02593231201172\n",
            "step = 196000: loss = 20.918161392211914\n",
            "step = 196000: Average Return = 130.0\n",
            "step = 196500: loss = 12.180107116699219\n",
            "step = 197000: loss = 24.58517837524414\n",
            "step = 197000: Average Return = 252.0\n",
            "step = 197500: loss = 23.776756286621094\n",
            "step = 198000: loss = 6.810168266296387\n",
            "step = 198000: Average Return = 238.0\n",
            "step = 198500: loss = 38.351776123046875\n",
            "step = 199000: loss = 106.45567321777344\n",
            "step = 199000: Average Return = 210.0\n",
            "step = 199500: loss = 23.880008697509766\n",
            "step = 200000: loss = 32.391143798828125\n",
            "step = 200000: Average Return = 30.0\n",
            "step = 200500: loss = 14.839460372924805\n",
            "step = 201000: loss = 25.17041778564453\n",
            "step = 201000: Average Return = 22.0\n",
            "step = 201500: loss = 17.228736877441406\n",
            "step = 202000: loss = 21.15594482421875\n",
            "step = 202000: Average Return = 330.0\n",
            "step = 202500: loss = 16.323579788208008\n",
            "step = 203000: loss = 28.47652816772461\n",
            "step = 203000: Average Return = 10.0\n",
            "step = 203500: loss = 12.679461479187012\n",
            "step = 204000: loss = 26.745994567871094\n",
            "step = 204000: Average Return = 204.0\n",
            "step = 204500: loss = 36.522708892822266\n",
            "step = 205000: loss = 10.982213973999023\n",
            "step = 205000: Average Return = 240.0\n",
            "step = 205500: loss = 23.782384872436523\n",
            "step = 206000: loss = 27.696090698242188\n",
            "step = 206000: Average Return = 0.0\n",
            "step = 206500: loss = 32.8194580078125\n",
            "step = 207000: loss = 24.22683334350586\n",
            "step = 207000: Average Return = 0.0\n",
            "step = 207500: loss = 26.126113891601562\n",
            "step = 208000: loss = 26.96908187866211\n",
            "step = 208000: Average Return = 300.0\n",
            "step = 208500: loss = 42.331298828125\n",
            "step = 209000: loss = 53.69456481933594\n",
            "step = 209000: Average Return = 0.0\n",
            "step = 209500: loss = 19.48981475830078\n",
            "step = 210000: loss = 13.184931755065918\n"
          ],
          "name": "stdout"
        }
      ]
    },
    {
      "cell_type": "markdown",
      "metadata": {
        "id": "lgMU3hxoVsuT",
        "colab_type": "text"
      },
      "source": [
        "# **Visualization**"
      ]
    },
    {
      "cell_type": "code",
      "metadata": {
        "id": "i3skqbSLVwOf",
        "colab_type": "code",
        "colab": {}
      },
      "source": [
        "## Plot\n",
        "\n",
        "iterations = range(0, num_iterations + 1, eval_interval)\n",
        "plt.figure(figsize=(20,5))\n",
        "plt.plot(iterations, returns)\n",
        "plt.ylabel('Average Return')\n",
        "plt.xlabel('Iterations')\n",
        "plt.ylim(top=250)"
      ],
      "execution_count": 0,
      "outputs": []
    },
    {
      "cell_type": "code",
      "metadata": {
        "id": "805XaJ_EV1Ms",
        "colab_type": "code",
        "colab": {}
      },
      "source": [
        "## Video\n",
        "def embed_mp4(filename):\n",
        "  \"\"\"Embeds an mp4 file in the notebook.\"\"\"\n",
        "  video = open(filename,'rb').read()\n",
        "  b64 = base64.b64encode(video)\n",
        "  tag = '''\n",
        "  <video width=\"640\" height=\"480\" controls>\n",
        "    <source src=\"data:video/mp4;base64,{0}\" type=\"video/mp4\">\n",
        "  Your browser does not support the video tag.\n",
        "  </video>'''.format(b64.decode())\n",
        "\n",
        "  return IPython.display.HTML(tag)\n",
        "\n",
        "def create_policy_eval_video(policy, filename, num_episodes=5, fps=30):\n",
        "  filename = filename + \".mp4\"\n",
        "  with imageio.get_writer(filename, fps=fps) as video:\n",
        "    for _ in range(num_episodes):\n",
        "      time_step = eval_env.reset()\n",
        "      video.append_data(eval_py_env.render())\n",
        "      while not time_step.is_last():\n",
        "        action_step = policy.action(time_step)\n",
        "        time_step = eval_env.step(action_step.action)\n",
        "        video.append_data(eval_py_env.render())\n",
        "  return embed_mp4(filename)\n",
        "\n",
        "create_policy_eval_video(agent.policy, \"trained-agent\")"
      ],
      "execution_count": 0,
      "outputs": []
    },
    {
      "cell_type": "code",
      "metadata": {
        "id": "_kDYPz2DZ_9V",
        "colab_type": "code",
        "colab": {}
      },
      "source": [
        "action_spec = array_spec.BoundedArraySpec((), np.int64, 0, 0)\n",
        "my_random_py_policy = random_py_policy.RandomPyPolicy(time_step_spec=None,\n",
        "    action_spec=action_spec)"
      ],
      "execution_count": 0,
      "outputs": []
    },
    {
      "cell_type": "code",
      "metadata": {
        "id": "Ey_0uDymbcia",
        "colab_type": "code",
        "colab": {}
      },
      "source": [
        "create_policy_eval_video(my_random_py_policy, \"doomy-agent\")"
      ],
      "execution_count": 0,
      "outputs": []
    },
    {
      "cell_type": "markdown",
      "metadata": {
        "id": "HYnC4fhDgRFa",
        "colab_type": "text"
      },
      "source": [
        "explore maually"
      ]
    },
    {
      "cell_type": "code",
      "metadata": {
        "id": "gWVFNwXRgT99",
        "colab_type": "code",
        "colab": {}
      },
      "source": [
        "collect_data(train_env, random_policy, replay_buffer, steps=100)"
      ],
      "execution_count": 0,
      "outputs": []
    },
    {
      "cell_type": "code",
      "metadata": {
        "id": "s6da1u-3gX0R",
        "colab_type": "code",
        "colab": {}
      },
      "source": [
        "iter(replay_buffer.as_dataset()).next()"
      ],
      "execution_count": 0,
      "outputs": []
    }
  ]
}